{
 "cells": [
  {
   "cell_type": "code",
   "execution_count": 2,
   "metadata": {},
   "outputs": [
    {
     "name": "stdout",
     "output_type": "stream",
     "text": [
      "Requirement already satisfied: nest_asyncio in d:\\utad\\cuarto\\paradigmas_programacion\\clase0\\lib\\site-packages (1.6.0)\n"
     ]
    },
    {
     "name": "stderr",
     "output_type": "stream",
     "text": [
      "\n",
      "[notice] A new release of pip is available: 24.0 -> 24.3.1\n",
      "[notice] To update, run: python.exe -m pip install --upgrade pip\n"
     ]
    }
   ],
   "source": [
    "!pip install nest_asyncio"
   ]
  },
  {
   "cell_type": "code",
   "execution_count": null,
   "metadata": {},
   "outputs": [
    {
     "name": "stdout",
     "output_type": "stream",
     "text": [
      "One\n",
      "One\n",
      "Two\n",
      "Two\n",
      "Time:  5.015999999945052\n"
     ]
    }
   ],
   "source": [
    "import time\n",
    "import asyncio\n",
    "import nest_asyncio\n",
    "\n",
    "nest_asyncio.apply()\n",
    "\n",
    "async def count():\n",
    "    print(\"One\")\n",
    "    await asyncio.sleep(5)\n",
    "    print(\"Two\")\n",
    "\n",
    "async def main():\n",
    "    task = asyncio.create_task(count())\n",
    "    task2 = asyncio.create_task(count())\n",
    "\n",
    "    #Si le paso la corrutina direcramente, va a crear la tarea y la va a ehecutar\n",
    "    await asyncio.gather(task, task2)\n",
    "\n",
    "t = time.monotonic()\n",
    "asyncio.run(main())\n",
    "print(\"Time: \", time.monotonic() - t)"
   ]
  },
  {
   "cell_type": "markdown",
   "metadata": {},
   "source": [
    "Vamos a programar una pequeña aplicacion:\n",
    "\n",
    "Arrancaremos tres tareas que generarán números aleatorios hasta\n",
    "conseguir generar uno que supere un umbral\n",
    "• Cada tarea podrá tener un umbral diferente\n",
    "• Después de generar un numero que este por debajo del umbral,\n",
    "dormiremos n (0.5) segundos"
   ]
  },
  {
   "cell_type": "code",
   "execution_count": null,
   "metadata": {},
   "outputs": [
    {
     "name": "stdout",
     "output_type": "stream",
     "text": [
      "Numero generado:  57 from umbral:  80\n",
      "Numero generado:  92 from umbral:  90\n",
      "Numero generado:  72 from umbral:  95\n"
     ]
    }
   ],
   "source": [
    "import time\n",
    "import asyncio\n",
    "import random\n",
    "\n",
    "async def gen_num_aleratorio(umbral):\n",
    "\n",
    "    num = -1\n",
    "    #Generador de numeros aleatorios con \"random\" del 1 al 100\n",
    "    num = random.randint(0, 100)\n",
    "    print(\"Numero generado: \", num, \"from umbral: \", umbral)\n",
    "    if (num > umbral):\n",
    "        await asyncio.sleep(1)\n",
    "\n",
    "\n",
    "async def main():\n",
    "\n",
    "    #Si no son iguales, vuelvo a lanzar las tareas\n",
    "    task1 = asyncio.create_task(gen_num_aleratorio(80))\n",
    "    task2 = asyncio.create_task(gen_num_aleratorio(90))\n",
    "    task3 = asyncio.create_task(gen_num_aleratorio(95))\n",
    "\n",
    "    #Espero a que se resuelvan las tareas\n",
    "    await asyncio.gather(task1, task2, task3)\n",
    "\n",
    "\n",
    "#Lanzo la corrutina\n",
    "asyncio.run(main())"
   ]
  },
  {
   "cell_type": "markdown",
   "metadata": {},
   "source": [
    "Patrones Avanzados\n",
    "\n",
    "Encadenando corrutinas ==> La corrutina que espera tiene que hacer un await a la siguiente."
   ]
  },
  {
   "cell_type": "code",
   "execution_count": 17,
   "metadata": {},
   "outputs": [
    {
     "name": "stdout",
     "output_type": "stream",
     "text": [
      "- One\n",
      "Three\n",
      "Three\n",
      "Four\n",
      "- Two\n",
      "Four\n",
      "Time:  1.0160000000614673\n"
     ]
    }
   ],
   "source": [
    "import asyncio\n",
    "import time\n",
    "\n",
    "async def count2():\n",
    "    print(\"Three\")\n",
    "    await asyncio.sleep(1)\n",
    "    print(\"Four\")\n",
    "\n",
    "async def count():\n",
    "    print(\"- One\")\n",
    "    await count2()\n",
    "    print(\"- Two\")\n",
    "\n",
    "async def main():\n",
    "    task = asyncio.create_task(count())\n",
    "    task2 = asyncio.create_task(count2())\n",
    "\n",
    "    await asyncio.gather(task, task2)\n",
    "\n",
    "t = time.monotonic()\n",
    "asyncio.run(main())\n",
    "print(\"Time: \", time.monotonic() - t)\n",
    "\n"
   ]
  }
 ],
 "metadata": {
  "kernelspec": {
   "display_name": "clase0",
   "language": "python",
   "name": "python3"
  },
  "language_info": {
   "codemirror_mode": {
    "name": "ipython",
    "version": 3
   },
   "file_extension": ".py",
   "mimetype": "text/x-python",
   "name": "python",
   "nbconvert_exporter": "python",
   "pygments_lexer": "ipython3",
   "version": "3.11.9"
  }
 },
 "nbformat": 4,
 "nbformat_minor": 2
}
