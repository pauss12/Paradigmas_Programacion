{
 "cells": [
  {
   "cell_type": "markdown",
   "metadata": {},
   "source": [
    "#Invierte una lista\n",
    "\n",
    "#[primer valor donde va a empezar a recorrer la lista: hasta donde va a llegar: cuantos pasos voy a dar en cada iteracion]"
   ]
  },
  {
   "cell_type": "code",
   "execution_count": 9,
   "metadata": {},
   "outputs": [
    {
     "name": "stdout",
     "output_type": "stream",
     "text": [
      "[<function <lambda> at 0x0000026F18F2D9E0>, 'hola', 1]\n"
     ]
    }
   ],
   "source": [
    "#lista = [1,2,3,4,5,6,7,8,9,10]\n",
    "reverse = lambda s: s[::-1]\n",
    "lista = [1, \"hola\", reverse]\n",
    "\n",
    "#print(reverse(lista))\n",
    "\n",
    "for elem in lista:\n",
    "    if callable(elem):\n",
    "        print(elem(lista))"
   ]
  },
  {
   "cell_type": "markdown",
   "metadata": {},
   "source": [
    "#Operador MAP()\n",
    "\n",
    "Va a recorrer la lista, y va a aplicar una funcion por cada una de los elementos de esa lista"
   ]
  },
  {
   "cell_type": "code",
   "execution_count": 14,
   "metadata": {},
   "outputs": [
    {
     "name": "stdout",
     "output_type": "stream",
     "text": [
      "['gecko', 'dog', 'vole', 'ferret']\n"
     ]
    },
    {
     "data": {
      "text/plain": [
       "['terref', 'elov', 'god', 'okceg']"
      ]
     },
     "execution_count": 14,
     "metadata": {},
     "output_type": "execute_result"
    }
   ],
   "source": [
    "reverse = lambda s: s[::-1]\n",
    "animals = [\"ferret\", \"vole\", \"dog\", \"gecko\"]\n",
    "\n",
    "print(reverse(animals))\n",
    "\n",
    "list(map(reverse, animals))"
   ]
  },
  {
   "cell_type": "markdown",
   "metadata": {},
   "source": [
    "JOIN"
   ]
  },
  {
   "cell_type": "code",
   "execution_count": 18,
   "metadata": {},
   "outputs": [
    {
     "data": {
      "text/plain": [
       "'1+2+3+4+5'"
      ]
     },
     "execution_count": 18,
     "metadata": {},
     "output_type": "execute_result"
    }
   ],
   "source": [
    "\"+\".join(map(str,[1,2,3,4,5]))"
   ]
  },
  {
   "cell_type": "markdown",
   "metadata": {},
   "source": [
    "#FILTER\n",
    "\n",
    "filtra aquellos elementos que cumplan una condicion"
   ]
  },
  {
   "cell_type": "code",
   "execution_count": 21,
   "metadata": {},
   "outputs": [
    {
     "data": {
      "text/plain": [
       "[1]"
      ]
     },
     "execution_count": 21,
     "metadata": {},
     "output_type": "execute_result"
    }
   ],
   "source": [
    "def greater_than_100(n):\n",
    "    return n > 100\n",
    "\n",
    "list(filter(greater_than_100, [1, 100, 101, 200, 300]))\n",
    "\n",
    "#COn funcion lambda\n",
    "list(filter(lambda n: n < 100, [1, 100, 101, 200, 300]))"
   ]
  },
  {
   "cell_type": "code",
   "execution_count": 22,
   "metadata": {},
   "outputs": [
    {
     "data": {
      "text/plain": [
       "[0, 2, 4, 6, 8, 10, 12, 14, 16, 18]"
      ]
     },
     "execution_count": 22,
     "metadata": {},
     "output_type": "execute_result"
    }
   ],
   "source": [
    "list(filter(lambda x: x%2 == 0, range(20)))"
   ]
  },
  {
   "cell_type": "code",
   "execution_count": 26,
   "metadata": {},
   "outputs": [
    {
     "data": {
      "text/plain": [
       "['EMU']"
      ]
     },
     "execution_count": 26,
     "metadata": {},
     "output_type": "execute_result"
    }
   ],
   "source": [
    "list(filter(lambda s: s.isupper(), [\"hola\", \"Mundo\", \"EMU\"]))"
   ]
  },
  {
   "cell_type": "markdown",
   "metadata": {},
   "source": [
    "#Reduce\n",
    "\n",
    "¿Que es?\n"
   ]
  },
  {
   "cell_type": "code",
   "execution_count": null,
   "metadata": {},
   "outputs": [],
   "source": [
    "from functools import reduce\n",
    "\n",
    "def add(x, y):\n",
    "    return x + y\n",
    "\n",
    "reduce(add, [1,2,3,4,5])\n",
    "\n",
    "#Con funcion lambda, obtiene el mayor de los dos:\n",
    "reduce(lambda x, y: max(x, y), [1,2,3,4,5])"
   ]
  }
 ],
 "metadata": {
  "kernelspec": {
   "display_name": "clase0",
   "language": "python",
   "name": "python3"
  },
  "language_info": {
   "codemirror_mode": {
    "name": "ipython",
    "version": 3
   },
   "file_extension": ".py",
   "mimetype": "text/x-python",
   "name": "python",
   "nbconvert_exporter": "python",
   "pygments_lexer": "ipython3",
   "version": "3.11.9"
  }
 },
 "nbformat": 4,
 "nbformat_minor": 2
}
