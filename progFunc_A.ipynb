{
 "cells": [
  {
   "cell_type": "code",
   "execution_count": 3,
   "metadata": {},
   "outputs": [
    {
     "name": "stdout",
     "output_type": "stream",
     "text": [
      "<function func at 0x00000241F57D5EE0>\n"
     ]
    }
   ],
   "source": [
    "def func():\n",
    "    print(\"I am a funct()\")\n",
    "\n",
    "print(func)"
   ]
  },
  {
   "cell_type": "code",
   "execution_count": 4,
   "metadata": {},
   "outputs": [
    {
     "name": "stdout",
     "output_type": "stream",
     "text": [
      "<function func at 0x00000241F57D6A20>\n",
      "<function func at 0x00000241F57D6A20>\n"
     ]
    }
   ],
   "source": [
    "def func():\n",
    "    print(\"I am a funct()\")\n",
    "\n",
    "print(func)\n",
    "\n",
    "another_name = func\n",
    "\n",
    "print(another_name)"
   ]
  },
  {
   "cell_type": "code",
   "execution_count": 5,
   "metadata": {},
   "outputs": [
    {
     "name": "stdout",
     "output_type": "stream",
     "text": [
      "<function func at 0x00000241F57D6DE0>\n",
      "<function func at 0x00000241F57D6DE0>\n",
      "I am a funct()\n"
     ]
    }
   ],
   "source": [
    "def func():\n",
    "    print(\"I am a funct()\")\n",
    "\n",
    "print(func)\n",
    "\n",
    "another_name = func\n",
    "\n",
    "print(another_name)\n",
    "\n",
    "another_name()"
   ]
  },
  {
   "cell_type": "code",
   "execution_count": 7,
   "metadata": {},
   "outputs": [
    {
     "name": "stdout",
     "output_type": "stream",
     "text": [
      "['hola', <function func at 0x00000241F57D6DE0>, 42]\n",
      "I am a funct()\n"
     ]
    }
   ],
   "source": [
    "objects = [\"hola\", func, 42]\n",
    "\n",
    "print(objects)"
   ]
  },
  {
   "cell_type": "code",
   "execution_count": null,
   "metadata": {},
   "outputs": [],
   "source": [
    "objects = [\"hola\", func, 42]\n",
    "\n",
    "print(objects)\n",
    "\n",
    "objects[1]()"
   ]
  },
  {
   "cell_type": "code",
   "execution_count": 9,
   "metadata": {},
   "outputs": [
    {
     "name": "stdout",
     "output_type": "stream",
     "text": [
      "{'hola': 1, <function func at 0x00000241F57D6DE0>: 2, 42: 3}\n",
      "2\n"
     ]
    }
   ],
   "source": [
    "d = {\"hola\": 1, func: 2, 42: 3}\n",
    "print(d)\n",
    "\n",
    "print(d[func])"
   ]
  },
  {
   "cell_type": "code",
   "execution_count": 10,
   "metadata": {},
   "outputs": [
    {
     "ename": "KeyError",
     "evalue": "<function func at 0x00000241F57D6DE0>",
     "output_type": "error",
     "traceback": [
      "\u001b[1;31m---------------------------------------------------------------------------\u001b[0m",
      "\u001b[1;31mKeyError\u001b[0m                                  Traceback (most recent call last)",
      "Cell \u001b[1;32mIn[10], line 2\u001b[0m\n\u001b[0;32m      1\u001b[0m d \u001b[38;5;241m=\u001b[39m {\u001b[38;5;241m2\u001b[39m: func, \u001b[38;5;241m2\u001b[39m: \u001b[38;5;241m42\u001b[39m}\n\u001b[1;32m----> 2\u001b[0m \u001b[38;5;28mprint\u001b[39m(\u001b[43md\u001b[49m\u001b[43m[\u001b[49m\u001b[43mfunc\u001b[49m\u001b[43m]\u001b[49m)\n",
      "\u001b[1;31mKeyError\u001b[0m: <function func at 0x00000241F57D6DE0>"
     ]
    }
   ],
   "source": [
    "d = {2: func, 2: 42}\n",
    "print(d[func])"
   ]
  },
  {
   "cell_type": "code",
   "execution_count": 11,
   "metadata": {},
   "outputs": [
    {
     "name": "stdout",
     "output_type": "stream",
     "text": [
      "I am inner\n"
     ]
    }
   ],
   "source": [
    "#CALLBACKS\n",
    "\n",
    "#Consiste \n",
    "def inner():\n",
    "    print(\"I am inner\")\n",
    "\n",
    "def outer(func):\n",
    "    func()\n",
    "\n",
    "outer(inner)"
   ]
  },
  {
   "cell_type": "code",
   "execution_count": 15,
   "metadata": {},
   "outputs": [
    {
     "name": "stdout",
     "output_type": "stream",
     "text": [
      "Request OK\n"
     ]
    }
   ],
   "source": [
    "from requests import get\n",
    "\n",
    "class GetCallback:\n",
    "\n",
    "    #El self es como el this de java, es para decirle que es una funcion de la clase\n",
    "    def MakeGetRequest(self, url):\n",
    "\n",
    "        try:\n",
    "            response = get(url)\n",
    "            if response.status_code == 200:\n",
    "                print(\"Request OK\")\n",
    "            else:\n",
    "                print(\"Request error\")\n",
    "\n",
    "        except:\n",
    "            print(\"Request error del catch\")\n",
    "\n",
    "#Creamos un objeto de la clase GetCallback\n",
    "obj = GetCallback()\n",
    "\n",
    "#Llamamos al método MakeGetRequest del objeto obj\n",
    "obj.MakeGetRequest(\"https://www.u-tad.com\")"
   ]
  },
  {
   "cell_type": "code",
   "execution_count": 18,
   "metadata": {},
   "outputs": [
    {
     "name": "stdout",
     "output_type": "stream",
     "text": [
      "Request OK\n"
     ]
    }
   ],
   "source": [
    "from requests import get\n",
    "\n",
    "def print_ok():\n",
    "    print(\"Request OK\")\n",
    "\n",
    "def print_error():\n",
    "    print(\"Request error\")\n",
    "\n",
    "class GetCallback:\n",
    "\n",
    "    #Vamos a modificar el comportamiento\n",
    "    def MakeGetRequest(self, url, onsuccess, onerror):\n",
    "\n",
    "        try:\n",
    "            response = get(url)\n",
    "            if response.status_code == 200:\n",
    "                onsuccess()\n",
    "            else:\n",
    "                onerror()\n",
    "        except:\n",
    "            onerror()\n",
    "\n",
    "#Creamos un objeto de la clase GetCallback\n",
    "obj = GetCallback()\n",
    "\n",
    "#Llamamos al método MakeGetRequest del objeto obj\n",
    "obj.MakeGetRequest(url = \"https://www.u-tad.com\", onsuccess = print_ok, onerror = print_error)"
   ]
  },
  {
   "cell_type": "markdown",
   "metadata": {},
   "source": [
    "#ORDENACIÓN DE LISTAS ----------------------------"
   ]
  },
  {
   "cell_type": "code",
   "execution_count": 19,
   "metadata": {},
   "outputs": [
    {
     "data": {
      "text/plain": [
       "['dog', 'ferret', 'gecko', 'vole']"
      ]
     },
     "execution_count": 19,
     "metadata": {},
     "output_type": "execute_result"
    }
   ],
   "source": [
    "animals = [\"ferret\", \"vole\", \"dog\", \"gecko\"]\n",
    "sorted(animals)"
   ]
  },
  {
   "cell_type": "code",
   "execution_count": 20,
   "metadata": {},
   "outputs": [
    {
     "data": {
      "text/plain": [
       "['dog', 'vole', 'gecko', 'ferret']"
      ]
     },
     "execution_count": 20,
     "metadata": {},
     "output_type": "execute_result"
    }
   ],
   "source": [
    "animals = [\"ferret\", \"vole\", \"dog\", \"gecko\"]\n",
    "sorted(animals, key = len)"
   ]
  },
  {
   "cell_type": "code",
   "execution_count": 21,
   "metadata": {},
   "outputs": [
    {
     "data": {
      "text/plain": [
       "['ferret', 'gecko', 'vole', 'dog']"
      ]
     },
     "execution_count": 21,
     "metadata": {},
     "output_type": "execute_result"
    }
   ],
   "source": [
    "animals = [\"ferret\", \"vole\", \"dog\", \"gecko\"]\n",
    "sorted(animals, key = len, reverse = True)"
   ]
  },
  {
   "cell_type": "markdown",
   "metadata": {},
   "source": [
    "EJERCICIO PRACTICO\n",
    "\n",
    "Tiene que ordenar la longitud al reves mediante la key"
   ]
  },
  {
   "cell_type": "code",
   "execution_count": 25,
   "metadata": {},
   "outputs": [
    {
     "data": {
      "text/plain": [
       "['ferret', 'gecko', 'vole', 'dog']"
      ]
     },
     "execution_count": 25,
     "metadata": {},
     "output_type": "execute_result"
    }
   ],
   "source": [
    "def function_sort(animals):\n",
    "    return -len(animals)\n",
    "\n",
    "animals = [\"ferret\", \"vole\", \"dog\", \"gecko\"]\n",
    "sorted(animals, key = function_sort)"
   ]
  },
  {
   "cell_type": "code",
   "execution_count": 27,
   "metadata": {},
   "outputs": [
    {
     "name": "stdout",
     "output_type": "stream",
     "text": [
      "I am function inner2\n"
     ]
    }
   ],
   "source": [
    "def outer2():\n",
    "    def inner2():\n",
    "        print(\"I am function inner2\")\n",
    "\n",
    "    #Vamos a devolver la función inner2, la direccion de memoria de la función\n",
    "    return inner2\n",
    "\n",
    "func2 = outer2()\n",
    "func2()\n"
   ]
  },
  {
   "cell_type": "code",
   "execution_count": 28,
   "metadata": {},
   "outputs": [
    {
     "name": "stdout",
     "output_type": "stream",
     "text": [
      "I am function inner2\n"
     ]
    }
   ],
   "source": [
    "def outer2():\n",
    "    def inner2():\n",
    "        print(\"I am function inner2\")\n",
    "\n",
    "    #Vamos a devolver la función inner2, la direccion de memoria de la función\n",
    "    return inner2\n",
    "\n",
    "#Primero ejecuto la funcion outer2, y luego ejecuto la funcion que devuelve \n",
    "outer2()()"
   ]
  },
  {
   "cell_type": "code",
   "execution_count": 31,
   "metadata": {},
   "outputs": [
    {
     "name": "stdout",
     "output_type": "stream",
     "text": [
      "Mi Perro de 5 años realmente tiene: 35\n",
      "Mi Gato de 5 años realmente tiene: 25\n",
      "Mi Pez de 5 años realmente tiene: 60\n"
     ]
    }
   ],
   "source": [
    "#OTRA FORMA DE HACER EL EJERCICIO DE LOA ANIMALES\n",
    "def perro(edad):\n",
    "    return edad * 7\n",
    "\n",
    "def gato(edad):\n",
    "    return edad * 5\n",
    "\n",
    "def pez(edad):\n",
    "    return edad * 12\n",
    "\n",
    "def edad_de_mi_mascota(edad, animal_func):\n",
    "    return animal_func(edad)\n",
    "\n",
    "print(f\"Mi Perro de 5 años realmente tiene: {edad_de_mi_mascota(5, perro)}\")\n",
    "print(f\"Mi Gato de 5 años realmente tiene: {edad_de_mi_mascota(5, gato)}\")\n",
    "print(f\"Mi Pez de 5 años realmente tiene: {edad_de_mi_mascota(5, pez)}\")"
   ]
  }
 ],
 "metadata": {
  "kernelspec": {
   "display_name": "clase0",
   "language": "python",
   "name": "python3"
  },
  "language_info": {
   "codemirror_mode": {
    "name": "ipython",
    "version": 3
   },
   "file_extension": ".py",
   "mimetype": "text/x-python",
   "name": "python",
   "nbconvert_exporter": "python",
   "pygments_lexer": "ipython3",
   "version": "3.11.9"
  }
 },
 "nbformat": 4,
 "nbformat_minor": 2
}
