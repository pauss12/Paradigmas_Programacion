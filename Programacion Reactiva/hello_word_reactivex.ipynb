{
 "cells": [
  {
   "cell_type": "code",
   "execution_count": 4,
   "metadata": {},
   "outputs": [
    {
     "name": "stdout",
     "output_type": "stream",
     "text": [
      "Collecting rx\n",
      "  Using cached Rx-3.2.0-py3-none-any.whl.metadata (4.6 kB)\n",
      "Using cached Rx-3.2.0-py3-none-any.whl (199 kB)\n",
      "Installing collected packages: rx\n",
      "Successfully installed rx-3.2.0\n",
      "Note: you may need to restart the kernel to use updated packages.\n"
     ]
    },
    {
     "name": "stderr",
     "output_type": "stream",
     "text": [
      "\n",
      "[notice] A new release of pip is available: 24.0 -> 24.2\n",
      "[notice] To update, run: python.exe -m pip install --upgrade pip\n"
     ]
    }
   ],
   "source": [
    "%pip install rx"
   ]
  },
  {
   "cell_type": "code",
   "execution_count": 11,
   "metadata": {},
   "outputs": [
    {
     "name": "stdout",
     "output_type": "stream",
     "text": [
      "Recibido: Hola\n",
      "Recibido: Mundo\n",
      "Recibido2: Hola\n",
      "Recibido2: Mundo\n"
     ]
    },
    {
     "data": {
      "text/plain": [
       "<rx.disposable.disposable.Disposable at 0x2c942b69090>"
      ]
     },
     "execution_count": 11,
     "metadata": {},
     "output_type": "execute_result"
    }
   ],
   "source": [
    "from rx import create\n",
    "\n",
    "def generador(observer, schedule):\n",
    "    observer.on_next(\"Hola\")\n",
    "\n",
    "    #Cuando se detecta el mensaje de erorr, ya no se continua con la ejecucion\n",
    "    #observer.on_error(\"Error\")\n",
    "    observer.on_next(\"Mundo\")\n",
    "\n",
    "    #No lleva parametros; notificas y dices que la funcion ha terminado\n",
    "    observer.on_completed()\n",
    "\n",
    "\n",
    "observable = create(generador)\n",
    "\n",
    "observable.subscribe(on_next = lambda s: print(f\"Recibido: {s}\"),\n",
    "                     on_error = lambda e: print(f\"Mensaje de Error: {e}\"),\n",
    "                     on_completed = lambda: print(\"Finalizado\"))\n",
    "\n",
    "observable.subscribe(on_next = lambda s: print(f\"Recibido2: {s}\"),\n",
    "                     on_error = lambda e: print(f\"Mensaje de Error2: {e}\"),\n",
    "                     on_completed = lambda: print(\"Finalizado2\"))"
   ]
  },
  {
   "cell_type": "code",
   "execution_count": 13,
   "metadata": {},
   "outputs": [
    {
     "name": "stdout",
     "output_type": "stream",
     "text": [
      "Recibido: Hola\n",
      "Recibido: Adios\n",
      "Recibido: Mundo\n",
      "Finalizado\n"
     ]
    },
    {
     "data": {
      "text/plain": [
       "<rx.disposable.disposable.Disposable at 0x2c942b6b150>"
      ]
     },
     "execution_count": 13,
     "metadata": {},
     "output_type": "execute_result"
    }
   ],
   "source": [
    "from rx import of\n",
    "\n",
    "observable = of('Hola', 'Adios', 'Mundo')\n",
    "\n",
    "observable.subscribe(on_next = lambda s: print(f\"Recibido: {s}\"),\n",
    "                     on_error = lambda e: print(f\"Mensaje de Error: {e}\"),\n",
    "                     on_completed = lambda: print(\"Finalizado\"))\n"
   ]
  },
  {
   "cell_type": "code",
   "execution_count": 15,
   "metadata": {},
   "outputs": [
    {
     "name": "stdout",
     "output_type": "stream",
     "text": [
      "Recibido: 1\n",
      "Recibido: 2\n",
      "Recibido: 3\n",
      "Recibido: 4\n",
      "Recibido: 5\n",
      "Finalizado\n"
     ]
    },
    {
     "data": {
      "text/plain": [
       "<rx.disposable.disposable.Disposable at 0x2c942b6a510>"
      ]
     },
     "execution_count": 15,
     "metadata": {},
     "output_type": "execute_result"
    }
   ],
   "source": [
    "from rx import from_\n",
    "\n",
    "observable = from_({1, 2, 3, 4, 5})\n",
    "\n",
    "observable.subscribe(on_next = lambda s: print(f\"Recibido: {s}\"),\n",
    "                     on_error = lambda e: print(f\"Mensaje de Error: {e}\"),\n",
    "                     on_completed = lambda: print(\"Finalizado\"))"
   ]
  },
  {
   "cell_type": "markdown",
   "metadata": {},
   "source": [
    "Podemos crear observers especializados heredando de la clase Observer; hacer que se escuche de teclado"
   ]
  },
  {
   "cell_type": "code",
   "execution_count": 17,
   "metadata": {},
   "outputs": [
    {
     "name": "stdout",
     "output_type": "stream",
     "text": [
      "Recibido: hola\n",
      "Finalizado\n"
     ]
    },
    {
     "data": {
      "text/plain": [
       "<rx.disposable.disposable.Disposable at 0x2c942bb94d0>"
      ]
     },
     "execution_count": 17,
     "metadata": {},
     "output_type": "execute_result"
    }
   ],
   "source": [
    "from rx import create\n",
    "from rx.core import Observer\n",
    "\n",
    "#La clase printer, hereda de observer -----------------------------------------------------------------\n",
    "class Printer(Observer):\n",
    "    #Sobreescribimos la funcion de \"on_next\"\n",
    "    def on_next(self, value):\n",
    "        print(f\"Recibido: {value}\")\n",
    "\n",
    "    def on_error(self, error):\n",
    "        print(f\"Mensaje de Error: {error}\")\n",
    "\n",
    "    def on_completed(self):\n",
    "        print(\"Finalizado\")\n",
    "\n",
    "#FUNCION OBSERVADORA, LA QUE VA A MIRAR LO QUE SE PULSE ---------------------------------------------\n",
    "def observer_teclado(observer, schedule):\n",
    "    exit_ = False\n",
    "    while not exit_:\n",
    "        msg = input(\"Introduce un mensaje: \")\n",
    "        if msg:\n",
    "            if msg == \"exit\":\n",
    "                exit_ = True\n",
    "                observer.on_completed()\n",
    "            else:\n",
    "                observer.on_next(msg)\n",
    "        else:\n",
    "            observer.on_error(\"Error! No ha habido mensaje!\")\n",
    "            exit_ = True\n",
    "\n",
    "observable = create(observer_teclado)\n",
    "\n",
    "#para distinguirlos...\n",
    "printer = Printer()\n",
    "\n",
    "observable.subscribe(printer)"
   ]
  },
  {
   "cell_type": "code",
   "execution_count": 20,
   "metadata": {},
   "outputs": [
    {
     "name": "stdout",
     "output_type": "stream",
     "text": [
      "Recibido: Convertido a mayusculas HOLA\n",
      "Finalizado\n"
     ]
    },
    {
     "data": {
      "text/plain": [
       "<rx.disposable.disposable.Disposable at 0x2c942ba14d0>"
      ]
     },
     "execution_count": 20,
     "metadata": {},
     "output_type": "execute_result"
    }
   ],
   "source": [
    "from rx import create, operators\n",
    "from rx.core import Observer\n",
    "\n",
    "#La clase printer, hereda de observer -----------------------------------------------------------------\n",
    "class Printer(Observer):\n",
    "    #Sobreescribimos la funcion de \"on_next\"\n",
    "    def on_next(self, value):\n",
    "        print(f\"Recibido: {value}\")\n",
    "\n",
    "    def on_error(self, error):\n",
    "        print(f\"Mensaje de Error: {error}\")\n",
    "\n",
    "    def on_completed(self):\n",
    "        print(\"Finalizado\")\n",
    "\n",
    "#FUNCION OBSERVADORA, LA QUE VA A MIRAR LO QUE SE PULSE ---------------------------------------------\n",
    "def observer_teclado(observer, schedule):\n",
    "    exit_ = False\n",
    "    while not exit_:\n",
    "        msg = input(\"Introduce un mensaje: \")\n",
    "        if msg:\n",
    "            if msg == \"exit\":\n",
    "                exit_ = True\n",
    "                observer.on_completed()\n",
    "            else:\n",
    "                observer.on_next(msg)\n",
    "        else:\n",
    "            observer.on_error(\"Error! No ha habido mensaje!\")\n",
    "            exit_ = True\n",
    "\n",
    "observable = create(observer_teclado)\n",
    "\n",
    "#Solamente funciona con los datos que llegan a traves de \"on_next\"; porque lo que le llegue por \"on_error\", no son datos \n",
    "observable_intermedio = observable.pipe(operators.map(lambda s: s.upper()), \n",
    "                                        operators.map(lambda s: f\"Convertido a mayusculas {s}\"))\n",
    "\n",
    "#para distinguirlos...\n",
    "printer = Printer()\n",
    "\n",
    "observable_intermedio.subscribe(printer)"
   ]
  },
  {
   "cell_type": "code",
   "execution_count": 23,
   "metadata": {},
   "outputs": [
    {
     "name": "stdout",
     "output_type": "stream",
     "text": [
      "456\n",
      "123\n",
      "9648\n",
      "213\n",
      "Finalizado\n"
     ]
    },
    {
     "data": {
      "text/plain": [
       "<rx.disposable.disposable.Disposable at 0x2c942b56190>"
      ]
     },
     "execution_count": 23,
     "metadata": {},
     "output_type": "execute_result"
    }
   ],
   "source": [
    "observable = from_([456, 20, 123, 56, 89, 100, 9648, 213])\n",
    "\n",
    "#observable.subscribe(on_next = lambda s: print(s), on_completed=lambda: print(\"Finalizado\"), on_error=lambda e: print(f\"Error: {e}\"))\n",
    "\n",
    "#observable.pipe(operators.max()).subscribe(on_next = lambda s: print(s), on_completed=lambda: print(\"Finalizado\"), on_error=lambda e: print(f\"Error: {e}\"))\n",
    "\n",
    "\n",
    "observable.pipe(operators.filter(lambda s: s > 100)).subscribe(on_next = lambda s: print(s), on_completed=lambda: print(\"Finalizado\"), on_error=lambda e: print(f\"Error: {e}\"))"
   ]
  },
  {
   "cell_type": "code",
   "execution_count": null,
   "metadata": {},
   "outputs": [
    {
     "name": "stdout",
     "output_type": "stream",
     "text": [
      "456\n",
      "123\n",
      "9648\n",
      "213\n",
      "Finalizado\n"
     ]
    },
    {
     "data": {
      "text/plain": [
       "<rx.disposable.disposable.Disposable at 0x2c942b93bd0>"
      ]
     },
     "execution_count": 24,
     "metadata": {},
     "output_type": "execute_result"
    }
   ],
   "source": [
    "from rx import create, operators\n",
    "import time\n",
    "\n",
    "def nun_generator(observer, scheduler):\n",
    "    l = [456, 20, 123, 56, 89, 100, 9648, 213]\n",
    "    for n in l:\n",
    "        observer.on_next(n)\n",
    "        time.sleep(1)\n",
    "    observer.on_completed()\n",
    "\n",
    "observable = create(nun_generator)\n",
    "\n",
    "observable.pipe(operators.filter(lambda s: s > 100)).subscribe(on_next = lambda s: print(s), on_completed=lambda: print(\"Finalizado\"), on_error=lambda e: print(f\"Error: {e}\"))\n"
   ]
  },
  {
   "cell_type": "markdown",
   "metadata": {},
   "source": [
    "Ejercicio OMDB API"
   ]
  },
  {
   "cell_type": "code",
   "execution_count": 10,
   "metadata": {},
   "outputs": [
    {
     "name": "stdout",
     "output_type": "stream",
     "text": [
      "Recibido: (tt0317219) - Cars : https://m.media-amazon.com/images/M/MV5BMTg5NzY0MzA2MV5BMl5BanBnXkFtZTYwNDc3NTc2._V1_SX300.jpg (2006)\n",
      "Recibido: (tt1216475) - Cars 2 : https://m.media-amazon.com/images/M/MV5BMTUzNTc3MTU3M15BMl5BanBnXkFtZTcwMzIxNTc3NA@@._V1_SX300.jpg (2011)\n",
      "Recibido: (tt3606752) - Cars 3 : https://m.media-amazon.com/images/M/MV5BMTc0NzU2OTYyN15BMl5BanBnXkFtZTgwMTkwOTg2MTI@._V1_SX300.jpg (2017)\n",
      "Recibido: (tt0200027) - Riding in Cars with Boys : https://m.media-amazon.com/images/M/MV5BZmQ3MjM3OTAtNDUwYy00NWM3LTljM2ItN2JhZTRlMDM3ZTcxXkEyXkFqcGc@._V1_SX300.jpg (2001)\n",
      "Recibido: (tt0081698) - Used Cars : https://m.media-amazon.com/images/M/MV5BNTY3Zjg2ODQtNjdhNS00OWY1LThkODEtYWYyNDliNzI3ZTlhXkEyXkFqcGc@._V1_SX300.jpg (1980)\n",
      "Recibido: (tt1282139) - Cars of the Revolution : https://m.media-amazon.com/images/M/MV5BZmE3NGIzZmEtZTBhNi00ZDYzLWJmZjItZWRmMmYzYzVmNTViXkEyXkFqcGdeQXVyMjExNjgyMTc@._V1_SX300.jpg (2008)\n",
      "Recibido: (tt0246692) - Old Men in New Cars : https://m.media-amazon.com/images/M/MV5BMTY0MDc5NzYxOV5BMl5BanBnXkFtZTcwNjAxODAzMQ@@._V1_SX300.jpg (2002)\n",
      "Recibido: (tt0071282) - The Cars That Ate Paris : https://m.media-amazon.com/images/M/MV5BNGFhNDJkZDQtYzRiNS00MzdkLTllOWItOWY4NGQyMDJjODExXkEyXkFqcGc@._V1_SX300.jpg (1974)\n",
      "Recibido: (tt0126029) - Shrek : https://m.media-amazon.com/images/M/MV5BN2FkMTRkNTUtYTI0NC00ZjI4LWI5MzUtMDFmOGY0NmU2OGY1XkEyXkFqcGc@._V1_SX300.jpg (2001)\n",
      "Recibido: (tt0298148) - Shrek 2 : https://m.media-amazon.com/images/M/MV5BMzNmNjQ1NmUtNzhiZS00YWE2LTg4N2ItZTA2ODdmOTMwOTQ1XkEyXkFqcGc@._V1_SX300.jpg (2004)\n",
      "Recibido: (tt0413267) - Shrek the Third : https://m.media-amazon.com/images/M/MV5BOTgyMjc3ODk2MV5BMl5BanBnXkFtZTcwMjY0MjEzMw@@._V1_SX300.jpg (2007)\n",
      "Recibido: (tt0892791) - Shrek Forever After : https://m.media-amazon.com/images/M/MV5BMTY0OTU1NzkxMl5BMl5BanBnXkFtZTcwMzI2NDUzMw@@._V1_SX300.jpg (2010)\n",
      "Recibido: (tt0897387) - Shrek the Halls : https://m.media-amazon.com/images/M/MV5BYzM4NzA2YzctNzBiNi00YjU0LWJkNjAtMzNjOWZkOGVmMDJiXkEyXkFqcGc@._V1_SX300.jpg (2007)\n",
      "Recibido: (tt0360985) - Shrek 4-D : https://m.media-amazon.com/images/M/MV5BNDVlOWZkNTEtNTcxZS00NDVhLWFlZWItYWFhNmZmZWNhYzU1XkEyXkFqcGdeQXVyNzMwOTY2NTI@._V1_SX300.jpg (2003)\n",
      "Recibido: (tt3070936) - Shrek the Musical : https://m.media-amazon.com/images/M/MV5BY2Y5YTllMWMtMDc5MC00ZDQ4LTllY2UtNWY4ZThmNTVlOTAyXkEyXkFqcGc@._V1_SX300.jpg (2013)\n",
      "Recibido: (tt0307461) - Shrek in the Swamp Karaoke Dance Party : https://m.media-amazon.com/images/M/MV5BMTlmZjQzNmYtMjA1Ny00N2JkLWJhM2ItYTU3ODQ4Zjc2MWE1XkEyXkFqcGdeQXVyNzg5OTk2OA@@._V1_SX300.jpg (2001)\n",
      "Recibido: (tt9334162) - Shrek Retold : https://m.media-amazon.com/images/M/MV5BZDY3ZDFjZWYtNDhmNC00OGVjLWIxZDYtNzlmYTAyYjMwNTcyXkEyXkFqcGdeQXVyNTk5NzczMDE@._V1_SX300.jpg (2018)\n",
      "Recibido: (tt2051999) - Shrek: Thriller Night : https://m.media-amazon.com/images/M/MV5BMjljZTQ0YWYtNGEwNC00ODJmLTgyOTQtZmIyNjI0YzFmNDgzXkEyXkFqcGc@._V1_SX300.jpg (2011)\n",
      "Mensaje de Error: 'Search'\n"
     ]
    },
    {
     "data": {
      "text/plain": [
       "<rx.disposable.disposable.Disposable at 0x1c745d84650>"
      ]
     },
     "execution_count": 10,
     "metadata": {},
     "output_type": "execute_result"
    }
   ],
   "source": [
    "from rx import create, operators\n",
    "from requests import get\n",
    "from rx.core import Observer\n",
    "\n",
    "api_key = \"fbd46cff\"\n",
    "\n",
    "class Printer(Observer):\n",
    "    #Sobreescribimos la funcion de \"on_next\"\n",
    "    def on_next(self, value):\n",
    "        print(f\"Recibido: {value}\")\n",
    "\n",
    "    def on_error(self, error):\n",
    "        print(f\"Mensaje de Error: {error}\")\n",
    "\n",
    "    def on_completed(self):\n",
    "        print(\"Finalizado\")\n",
    "\n",
    "def search_movies(observer, scheduler):\n",
    "    while 1:\n",
    "        movie = input(\"Introduce una pelicula: \")\n",
    "        response = get(f\"http://www.omdbapi.com/?apikey={api_key}&s={movie}\")\n",
    "\n",
    "        if response.status_code == 200:\n",
    "            for i in response.json()[\"Search\"]:\n",
    "                observer.on_next(i)\n",
    "        else:\n",
    "            observer.on_error(\"Error en la peticion\")\n",
    "\n",
    "observable = create(search_movies)\n",
    "\n",
    "observable.pipe(operators.filter(lambda d: d[\"Type\"] == \"movie\"),\n",
    "                operators.map(lambda d: f\"({d['imdbID']}) - {d['Title']} : {d['Poster']} ({d['Year']})\")).subscribe(Printer())\n",
    "\n"
   ]
  },
  {
   "cell_type": "markdown",
   "metadata": {},
   "source": [
    "TKInter -- Para plataformas GUI en Python"
   ]
  },
  {
   "cell_type": "code",
   "execution_count": 15,
   "metadata": {},
   "outputs": [],
   "source": [
    "from tkinter import Tk, Label\n",
    "\n",
    "#Creamos la ventana\n",
    "window = Tk()\n",
    "\n",
    "window.geometry(\"200x200\")\n",
    "\n",
    "#Creamos la etiqueta; y tengo que decirle en que ventana se va a mostrar (window) y lueog el texto que quiero que muestre\n",
    "label = Label(text=\"Hola Mundo\")\n",
    "label.pack()\n",
    "\n",
    "window.mainloop()"
   ]
  },
  {
   "cell_type": "markdown",
   "metadata": {},
   "source": [
    "Widgets"
   ]
  },
  {
   "cell_type": "code",
   "execution_count": null,
   "metadata": {},
   "outputs": [
    {
     "data": {
      "text/plain": [
       "<__main__.Window at 0x1c745e8cc90>"
      ]
     },
     "execution_count": 48,
     "metadata": {},
     "output_type": "execute_result"
    }
   ],
   "source": [
    "from tkinter import Tk, Label, Button, Entry, Checkbutton, BooleanVar, StringVar\n",
    "from tkinter.ttk import Combobox\n",
    "\n",
    "class Window:\n",
    "\n",
    "    def __init__(self):\n",
    "        #Creamos la ventana\n",
    "        self.window = Tk()\n",
    "\n",
    "        #window.geometry(\"200x200\")\n",
    "\n",
    "        #Creamos la etiqueta; y tengo que decirle en que ventana se va a mostrar (window) y lueog el texto que quiero que muestre\n",
    "        self.label = Label(text=\"Hola\", font=(\"Arial Bold\", 50))\n",
    "        self.label.grid(row=0, column=0)\n",
    "\n",
    "        # Creamos la etiqueta 2 -----------------------------------------------------\n",
    "        self.label2Text = StringVar()\n",
    "        self.label2Text.set(\"Valor nuevo\")\n",
    "\n",
    "        #Creamos la etiqueta; y tengo que decirle en que ventana se va a mostrar (window) y lueog el texto que quiero que muestre\n",
    "        self.label2 = Label(font=(\"Arial\", 36), textvariable=self.label2Text)\n",
    "        self.label2.grid(row=0, column=1, padx=100)\n",
    "\n",
    "        #Creamos el boton\n",
    "        self.button = Button(text=\"Pulsa\", command=self.read_entry)\n",
    "\n",
    "        #Lo mostramos en la ventana\n",
    "        self.button.grid(row=1, column=1)\n",
    "\n",
    "        self.entry = Entry()\n",
    "        self.entry.grid(row=1, column=0)\n",
    "\n",
    "        #Creamos el combobox -----------------------------------------------------\n",
    "        self.comboBox = Combobox(values=[\"cero\", \"uno\", \"dos\", \"tres\"])\n",
    "        self.comboBox.grid(row=2, column=0)\n",
    "\n",
    "        #Si queremos uno por defecto\n",
    "        self.comboBox.current(2)\n",
    "\n",
    "        #cHECK BUTTON -----------------------------------------------------------\n",
    "        self.checkButton = Checkbutton(text=\"Aceptar\")\n",
    "        self.checkButton.grid(row=3, column=0)\n",
    "\n",
    "        self.checkButtonState = BooleanVar()\n",
    "        self.checkButtonState.set(True)\n",
    "\n",
    "        self.checkButton = Checkbutton(text=\"yes or no\", variable=self.checkButtonState)\n",
    "        self.checkButton.grid(row=4, column=0)\n",
    "\n",
    "        self.window.mainloop()\n",
    "\n",
    "    #Configure; es cuando hay widgets que se tienen que configurar\n",
    "\n",
    "    def read_entry(self):\n",
    "        self.checkButtonState.set(not self.checkButtonState.get())\n",
    "        self.label2Text.set(self.entry.get())\n",
    "\n",
    "Window()"
   ]
  },
  {
   "cell_type": "code",
   "execution_count": null,
   "metadata": {},
   "outputs": [],
   "source": [
    "\n"
   ]
  }
 ],
 "metadata": {
  "kernelspec": {
   "display_name": "clase0",
   "language": "python",
   "name": "python3"
  },
  "language_info": {
   "codemirror_mode": {
    "name": "ipython",
    "version": 3
   },
   "file_extension": ".py",
   "mimetype": "text/x-python",
   "name": "python",
   "nbconvert_exporter": "python",
   "pygments_lexer": "ipython3",
   "version": "3.11.9"
  }
 },
 "nbformat": 4,
 "nbformat_minor": 2
}
