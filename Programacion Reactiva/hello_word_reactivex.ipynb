{
 "cells": [
  {
   "cell_type": "code",
   "execution_count": 4,
   "metadata": {},
   "outputs": [
    {
     "name": "stdout",
     "output_type": "stream",
     "text": [
      "Collecting rx\n",
      "  Using cached Rx-3.2.0-py3-none-any.whl.metadata (4.6 kB)\n",
      "Using cached Rx-3.2.0-py3-none-any.whl (199 kB)\n",
      "Installing collected packages: rx\n",
      "Successfully installed rx-3.2.0\n",
      "Note: you may need to restart the kernel to use updated packages.\n"
     ]
    },
    {
     "name": "stderr",
     "output_type": "stream",
     "text": [
      "\n",
      "[notice] A new release of pip is available: 24.0 -> 24.2\n",
      "[notice] To update, run: python.exe -m pip install --upgrade pip\n"
     ]
    }
   ],
   "source": [
    "%pip install rx"
   ]
  },
  {
   "cell_type": "code",
   "execution_count": 11,
   "metadata": {},
   "outputs": [
    {
     "name": "stdout",
     "output_type": "stream",
     "text": [
      "Recibido: Hola\n",
      "Recibido: Mundo\n",
      "Recibido2: Hola\n",
      "Recibido2: Mundo\n"
     ]
    },
    {
     "data": {
      "text/plain": [
       "<rx.disposable.disposable.Disposable at 0x2c942b69090>"
      ]
     },
     "execution_count": 11,
     "metadata": {},
     "output_type": "execute_result"
    }
   ],
   "source": [
    "from rx import create\n",
    "\n",
    "def generador(observer, schedule):\n",
    "    observer.on_next(\"Hola\")\n",
    "\n",
    "    #Cuando se detecta el mensaje de erorr, ya no se continua con la ejecucion\n",
    "    #observer.on_error(\"Error\")\n",
    "    observer.on_next(\"Mundo\")\n",
    "\n",
    "    #No lleva parametros; notificas y dices que la funcion ha terminado\n",
    "    observer.on_completed()\n",
    "\n",
    "\n",
    "observable = create(generador)\n",
    "\n",
    "observable.subscribe(on_next = lambda s: print(f\"Recibido: {s}\"),\n",
    "                     on_error = lambda e: print(f\"Mensaje de Error: {e}\"),\n",
    "                     on_completed = lambda: print(\"Finalizado\"))\n",
    "\n",
    "observable.subscribe(on_next = lambda s: print(f\"Recibido2: {s}\"),\n",
    "                     on_error = lambda e: print(f\"Mensaje de Error2: {e}\"),\n",
    "                     on_completed = lambda: print(\"Finalizado2\"))"
   ]
  },
  {
   "cell_type": "code",
   "execution_count": 13,
   "metadata": {},
   "outputs": [
    {
     "name": "stdout",
     "output_type": "stream",
     "text": [
      "Recibido: Hola\n",
      "Recibido: Adios\n",
      "Recibido: Mundo\n",
      "Finalizado\n"
     ]
    },
    {
     "data": {
      "text/plain": [
       "<rx.disposable.disposable.Disposable at 0x2c942b6b150>"
      ]
     },
     "execution_count": 13,
     "metadata": {},
     "output_type": "execute_result"
    }
   ],
   "source": [
    "from rx import of\n",
    "\n",
    "observable = of('Hola', 'Adios', 'Mundo')\n",
    "\n",
    "observable.subscribe(on_next = lambda s: print(f\"Recibido: {s}\"),\n",
    "                     on_error = lambda e: print(f\"Mensaje de Error: {e}\"),\n",
    "                     on_completed = lambda: print(\"Finalizado\"))\n"
   ]
  },
  {
   "cell_type": "code",
   "execution_count": 15,
   "metadata": {},
   "outputs": [
    {
     "name": "stdout",
     "output_type": "stream",
     "text": [
      "Recibido: 1\n",
      "Recibido: 2\n",
      "Recibido: 3\n",
      "Recibido: 4\n",
      "Recibido: 5\n",
      "Finalizado\n"
     ]
    },
    {
     "data": {
      "text/plain": [
       "<rx.disposable.disposable.Disposable at 0x2c942b6a510>"
      ]
     },
     "execution_count": 15,
     "metadata": {},
     "output_type": "execute_result"
    }
   ],
   "source": [
    "from rx import from_\n",
    "\n",
    "observable = from_({1, 2, 3, 4, 5})\n",
    "\n",
    "observable.subscribe(on_next = lambda s: print(f\"Recibido: {s}\"),\n",
    "                     on_error = lambda e: print(f\"Mensaje de Error: {e}\"),\n",
    "                     on_completed = lambda: print(\"Finalizado\"))"
   ]
  },
  {
   "cell_type": "markdown",
   "metadata": {},
   "source": [
    "Podemos crear observers especializados heredando de la clase Observer; hacer que se escuche de teclado"
   ]
  },
  {
   "cell_type": "code",
   "execution_count": 17,
   "metadata": {},
   "outputs": [
    {
     "name": "stdout",
     "output_type": "stream",
     "text": [
      "Recibido: hola\n",
      "Finalizado\n"
     ]
    },
    {
     "data": {
      "text/plain": [
       "<rx.disposable.disposable.Disposable at 0x2c942bb94d0>"
      ]
     },
     "execution_count": 17,
     "metadata": {},
     "output_type": "execute_result"
    }
   ],
   "source": [
    "from rx import create\n",
    "from rx.core import Observer\n",
    "\n",
    "#La clase printer, hereda de observer -----------------------------------------------------------------\n",
    "class Printer(Observer):\n",
    "    #Sobreescribimos la funcion de \"on_next\"\n",
    "    def on_next(self, value):\n",
    "        print(f\"Recibido: {value}\")\n",
    "\n",
    "    def on_error(self, error):\n",
    "        print(f\"Mensaje de Error: {error}\")\n",
    "\n",
    "    def on_completed(self):\n",
    "        print(\"Finalizado\")\n",
    "\n",
    "#FUNCION OBSERVADORA, LA QUE VA A MIRAR LO QUE SE PULSE ---------------------------------------------\n",
    "def observer_teclado(observer, schedule):\n",
    "    exit_ = False\n",
    "    while not exit_:\n",
    "        msg = input(\"Introduce un mensaje: \")\n",
    "        if msg:\n",
    "            if msg == \"exit\":\n",
    "                exit_ = True\n",
    "                observer.on_completed()\n",
    "            else:\n",
    "                observer.on_next(msg)\n",
    "        else:\n",
    "            observer.on_error(\"Error! No ha habido mensaje!\")\n",
    "            exit_ = True\n",
    "\n",
    "observable = create(observer_teclado)\n",
    "\n",
    "#para distinguirlos...\n",
    "printer = Printer()\n",
    "\n",
    "observable.subscribe(printer)"
   ]
  }
 ],
 "metadata": {
  "kernelspec": {
   "display_name": "clase0",
   "language": "python",
   "name": "python3"
  },
  "language_info": {
   "codemirror_mode": {
    "name": "ipython",
    "version": 3
   },
   "file_extension": ".py",
   "mimetype": "text/x-python",
   "name": "python",
   "nbconvert_exporter": "python",
   "pygments_lexer": "ipython3",
   "version": "3.11.9"
  }
 },
 "nbformat": 4,
 "nbformat_minor": 2
}
