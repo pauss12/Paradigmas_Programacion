{
 "cells": [
  {
   "cell_type": "markdown",
   "metadata": {},
   "source": [
    "#THREADS"
   ]
  },
  {
   "cell_type": "code",
   "execution_count": null,
   "metadata": {},
   "outputs": [
    {
     "name": "stdout",
     "output_type": "stream",
     "text": [
      "I am a Thread!\n"
     ]
    }
   ],
   "source": [
    "import threading\n",
    "\n",
    "def print_message():\n",
    "    print(\"I am a Thread!\")\n",
    "\n",
    "thread = threading.Thread(target=print_message)\n",
    "\n",
    "#Para iniciar el thread\n",
    "thread.start()\n",
    "\n",
    "#Para esperar a que el thread termine\n",
    "#thread.join()"
   ]
  },
  {
   "cell_type": "markdown",
   "metadata": {},
   "source": [
    "#El programa termina; pero por el sleep hace que el thread no se haya ejecutado antes de que termine la funcion, y se ejecuta despues del sleep"
   ]
  },
  {
   "cell_type": "code",
   "execution_count": 5,
   "metadata": {},
   "outputs": [
    {
     "name": "stdout",
     "output_type": "stream",
     "text": [
      "Thread finished!\n"
     ]
    },
    {
     "name": "stdout",
     "output_type": "stream",
     "text": [
      "I am a Thread!\n"
     ]
    }
   ],
   "source": [
    "import threading\n",
    "import time\n",
    "\n",
    "def print_message():\n",
    "    time.sleep(10)\n",
    "    print(\"I am a Thread!\")\n",
    "\n",
    "thread = threading.Thread(target=print_message)\n",
    "\n",
    "#Para iniciar el thread\n",
    "thread.start()\n",
    "print(\"Thread finished!\")"
   ]
  },
  {
   "cell_type": "markdown",
   "metadata": {},
   "source": [
    "El join va a bloquear la ejecucion hasta que no haya terminado la ejecucion del thread; como una barrera, no puede continuar con lo que viene despies hasta que el thread no haya terminado"
   ]
  },
  {
   "cell_type": "code",
   "execution_count": 6,
   "metadata": {},
   "outputs": [
    {
     "name": "stdout",
     "output_type": "stream",
     "text": [
      "I am a Thread!\n",
      "Thread finished!\n"
     ]
    }
   ],
   "source": [
    "import threading\n",
    "import time\n",
    "\n",
    "def print_message():\n",
    "    time.sleep(10)\n",
    "    print(\"I am a Thread!\")\n",
    "\n",
    "thread = threading.Thread(target=print_message)\n",
    "\n",
    "#Para iniciar el thread\n",
    "thread.start()\n",
    "\n",
    "thread.join()\n",
    "print(\"Thread finished!\")"
   ]
  },
  {
   "cell_type": "markdown",
   "metadata": {},
   "source": [
    "Si le queremos pasar parametros:"
   ]
  },
  {
   "cell_type": "code",
   "execution_count": null,
   "metadata": {},
   "outputs": [
    {
     "name": "stdout",
     "output_type": "stream",
     "text": [
      "I am a Thread! 1\n",
      "Thread finished!\n"
     ]
    }
   ],
   "source": [
    "import threading\n",
    "import time\n",
    "\n",
    "def print_message(num):\n",
    "    #time.sleep(10)\n",
    "    print(f\"I am a Thread {num}\")\n",
    "\n",
    "#le pasamos el numero como tupla\n",
    "thread = threading.Thread(target=print_message, args=(1,))\n",
    "\n",
    "#Para iniciar el thread\n",
    "thread.start()\n",
    "\n",
    "thread.join()\n",
    "print(\"Thread finished!\")"
   ]
  },
  {
   "cell_type": "markdown",
   "metadata": {},
   "source": [
    "Con mas threads"
   ]
  },
  {
   "cell_type": "code",
   "execution_count": null,
   "metadata": {},
   "outputs": [
    {
     "name": "stdout",
     "output_type": "stream",
     "text": [
      "I am a Thread 0\n",
      "I am a Thread 1\n",
      "I am a Thread 2\n",
      "I am a Thread 3\n",
      "I am a Thread 4\n",
      "Thread finished!\n"
     ]
    }
   ],
   "source": [
    "import threading\n",
    "import time\n",
    "\n",
    "def print_message(num):\n",
    "    print(f\"I am a Thread {num}\")\n",
    "    #time.sleep(5)\n",
    "\n",
    "threads = []\n",
    "\n",
    "#le pasamos el numero como tupla\n",
    "for i in range(5):\n",
    "    thread = threading.Thread(target=print_message, args=(i,))\n",
    "    thread.start()\n",
    "    threads.append(thread)\n",
    "    \n",
    "#En vez de ir esperando a que cada thread termine de ejecutarse para ejecutar el siguiente; creo una lista de threads y \n",
    "# cuando ya se han ejecutado, entonces imprimo \"Thread finished!\"\n",
    "for thread in threads:\n",
    "    thread.join()\n",
    "\n",
    "print(\"Thread finished!\")"
   ]
  },
  {
   "cell_type": "markdown",
   "metadata": {},
   "source": [
    "Prueba; hay veces que sale mal, porque se realiza el cambio de contexto mientras uno de los threads se esta imprimiendo su mensaje"
   ]
  },
  {
   "cell_type": "code",
   "execution_count": null,
   "metadata": {},
   "outputs": [
    {
     "name": "stdout",
     "output_type": "stream",
     "text": [
      "I am a Thread 0\n",
      "I am a Thread 1\n",
      "I am a Thread 2\n",
      "I am a Thread 4\n",
      "I am a Thread 3\n",
      "Thread finished!\n"
     ]
    }
   ],
   "source": [
    "import threading\n",
    "import time\n",
    "\n",
    "def print_message(num):\n",
    "    if (num == 3):\n",
    "        time.sleep(5)\n",
    "    print(f\"I am a Thread {num}\")\n",
    "\n",
    "threads = []\n",
    "\n",
    "#le pasamos el numero como tupla\n",
    "for i in range(5):\n",
    "    thread = threading.Thread(target=print_message, args=(i,))\n",
    "    thread.start()\n",
    "    threads.append(thread)\n",
    "    \n",
    "#En vez de ir esperando a que cada thread termine de ejecutarse para ejecutar el siguiente; creo una lista de threads y \n",
    "# cuando ya se han ejecutado, entonces imprimo \"Thread finished!\"\n",
    "for thread in threads:\n",
    "    thread.join()\n",
    "\n",
    "print(\"Thread finished!\")"
   ]
  }
 ],
 "metadata": {
  "kernelspec": {
   "display_name": "clase0",
   "language": "python",
   "name": "python3"
  },
  "language_info": {
   "codemirror_mode": {
    "name": "ipython",
    "version": 3
   },
   "file_extension": ".py",
   "mimetype": "text/x-python",
   "name": "python",
   "nbconvert_exporter": "python",
   "pygments_lexer": "ipython3",
   "version": "3.11.9"
  }
 },
 "nbformat": 4,
 "nbformat_minor": 2
}
