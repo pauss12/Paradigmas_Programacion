{
 "cells": [
  {
   "cell_type": "markdown",
   "metadata": {},
   "source": [
    "#THREADS"
   ]
  },
  {
   "cell_type": "code",
   "execution_count": null,
   "metadata": {},
   "outputs": [
    {
     "name": "stdout",
     "output_type": "stream",
     "text": [
      "I am a Thread!\n"
     ]
    }
   ],
   "source": [
    "import threading\n",
    "\n",
    "def print_message():\n",
    "    print(\"I am a Thread!\")\n",
    "\n",
    "thread = threading.Thread(target=print_message)\n",
    "\n",
    "#Para iniciar el thread\n",
    "thread.start()\n",
    "\n",
    "#Para esperar a que el thread termine\n",
    "#thread.join()"
   ]
  },
  {
   "cell_type": "markdown",
   "metadata": {},
   "source": [
    "#El programa termina; pero por el sleep hace que el thread no se haya ejecutado antes de que termine la funcion, y se ejecuta despues del sleep"
   ]
  },
  {
   "cell_type": "code",
   "execution_count": 5,
   "metadata": {},
   "outputs": [
    {
     "name": "stdout",
     "output_type": "stream",
     "text": [
      "Thread finished!\n"
     ]
    },
    {
     "name": "stdout",
     "output_type": "stream",
     "text": [
      "I am a Thread!\n"
     ]
    }
   ],
   "source": [
    "import threading\n",
    "import time\n",
    "\n",
    "def print_message():\n",
    "    time.sleep(10)\n",
    "    print(\"I am a Thread!\")\n",
    "\n",
    "thread = threading.Thread(target=print_message)\n",
    "\n",
    "#Para iniciar el thread\n",
    "thread.start()\n",
    "print(\"Thread finished!\")"
   ]
  },
  {
   "cell_type": "markdown",
   "metadata": {},
   "source": [
    "El join va a bloquear la ejecucion hasta que no haya terminado la ejecucion del thread; como una barrera, no puede continuar con lo que viene despies hasta que el thread no haya terminado"
   ]
  },
  {
   "cell_type": "code",
   "execution_count": 6,
   "metadata": {},
   "outputs": [
    {
     "name": "stdout",
     "output_type": "stream",
     "text": [
      "I am a Thread!\n",
      "Thread finished!\n"
     ]
    }
   ],
   "source": [
    "import threading\n",
    "import time\n",
    "\n",
    "def print_message():\n",
    "    time.sleep(10)\n",
    "    print(\"I am a Thread!\")\n",
    "\n",
    "thread = threading.Thread(target=print_message)\n",
    "\n",
    "#Para iniciar el thread\n",
    "thread.start()\n",
    "\n",
    "thread.join()\n",
    "print(\"Thread finished!\")"
   ]
  },
  {
   "cell_type": "markdown",
   "metadata": {},
   "source": [
    "Si le queremos pasar parametros:"
   ]
  },
  {
   "cell_type": "code",
   "execution_count": null,
   "metadata": {},
   "outputs": [
    {
     "name": "stdout",
     "output_type": "stream",
     "text": [
      "I am a Thread! 1\n",
      "Thread finished!\n"
     ]
    }
   ],
   "source": [
    "import threading\n",
    "import time\n",
    "\n",
    "def print_message(num):\n",
    "    #time.sleep(10)\n",
    "    print(f\"I am a Thread {num}\")\n",
    "\n",
    "#le pasamos el numero como tupla\n",
    "thread = threading.Thread(target=print_message, args=(1,))\n",
    "\n",
    "#Para iniciar el thread\n",
    "thread.start()\n",
    "\n",
    "thread.join()\n",
    "print(\"Thread finished!\")"
   ]
  },
  {
   "cell_type": "markdown",
   "metadata": {},
   "source": [
    "Con mas threads"
   ]
  },
  {
   "cell_type": "code",
   "execution_count": null,
   "metadata": {},
   "outputs": [
    {
     "name": "stdout",
     "output_type": "stream",
     "text": [
      "I am a Thread 0\n",
      "I am a Thread 1\n",
      "I am a Thread 2\n",
      "I am a Thread 3\n",
      "I am a Thread 4\n",
      "Thread finished!\n"
     ]
    }
   ],
   "source": [
    "import threading\n",
    "import time\n",
    "\n",
    "def print_message(num):\n",
    "    print(f\"I am a Thread {num}\")\n",
    "    #time.sleep(5)\n",
    "\n",
    "threads = []\n",
    "\n",
    "#le pasamos el numero como tupla\n",
    "for i in range(5):\n",
    "    thread = threading.Thread(target=print_message, args=(i,))\n",
    "    thread.start()\n",
    "    threads.append(thread)\n",
    "    \n",
    "#En vez de ir esperando a que cada thread termine de ejecutarse para ejecutar el siguiente; creo una lista de threads y \n",
    "# cuando ya se han ejecutado, entonces imprimo \"Thread finished!\"\n",
    "for thread in threads:\n",
    "    thread.join()\n",
    "\n",
    "print(\"Thread finished!\")"
   ]
  },
  {
   "cell_type": "markdown",
   "metadata": {},
   "source": [
    "Prueba; hay veces que sale mal, porque se realiza el cambio de contexto mientras uno de los threads se esta imprimiendo su mensaje"
   ]
  },
  {
   "cell_type": "code",
   "execution_count": null,
   "metadata": {},
   "outputs": [
    {
     "name": "stdout",
     "output_type": "stream",
     "text": [
      "I am a Thread 0\n",
      "I am a Thread 1\n",
      "I am a Thread 2\n",
      "I am a Thread 4\n",
      "I am a Thread 3\n",
      "Thread finished!\n"
     ]
    }
   ],
   "source": [
    "import threading\n",
    "import time\n",
    "\n",
    "def print_message(num):\n",
    "    if (num == 3):\n",
    "        time.sleep(5)\n",
    "    print(f\"I am a Thread {num}\")\n",
    "\n",
    "threads = []\n",
    "\n",
    "#le pasamos el numero como tupla\n",
    "for i in range(5):\n",
    "    thread = threading.Thread(target=print_message, args=(i,))\n",
    "    thread.start()\n",
    "    threads.append(thread)\n",
    "    \n",
    "#En vez de ir esperando a que cada thread termine de ejecutarse para ejecutar el siguiente; creo una lista de threads y \n",
    "# cuando ya se han ejecutado, entonces imprimo \"Thread finished!\"\n",
    "for thread in threads:\n",
    "    thread.join()\n",
    "\n",
    "print(\"Thread finished!\")"
   ]
  },
  {
   "cell_type": "markdown",
   "metadata": {},
   "source": [
    "Semaforos"
   ]
  },
  {
   "cell_type": "code",
   "execution_count": 1,
   "metadata": {},
   "outputs": [
    {
     "name": "stdout",
     "output_type": "stream",
     "text": [
      "\n",
      "\n",
      "\n",
      "\n",
      "\n",
      "\n",
      "\n",
      "\n",
      "\n",
      "\n"
     ]
    }
   ],
   "source": [
    "import threading\n",
    "import time\n",
    "\n",
    "#Creamos el semaforo; el 2 es para indicar el numero maximo de hilos que pueden acceder a la seccion critica a la vez\n",
    "sem = threading.Semaphore(1)\n",
    "\n",
    "filename = \"log2.txt\"\n",
    "\n",
    "def access_resource(num):\n",
    "    #Adquiere el semaforo, restamos uno a ese semaforo\n",
    "    sem.acquire()\n",
    "    for i in range(5):\n",
    "        with open(filename, \"a\") as file:\n",
    "            file.write(f\"Thread {num} -> iter {i}\\n\")\n",
    "    print(\"\\n\")\n",
    "    #Este semaforo ha terminado de ejecutar la seccion critica, entonces sumamos uno para que otro hilo pueda usarlo\n",
    "    sem.release()\n",
    "\n",
    "threads = []\n",
    "\n",
    "#le pasamos el numero como tupla\n",
    "for i in range(5):\n",
    "    thread = threading.Thread(target=access_resource, args=(i,))\n",
    "    thread.start()\n",
    "    threads.append(thread)\n",
    "    \n",
    "#En vez de ir esperando a que cada thread termine de ejecutarse para ejecutar el siguiente; creo una lista de threads y \n",
    "# cuando ya se han ejecutado, entonces imprimo \"Thread finished!\"\n",
    "for thread in threads:\n",
    "    thread.join()"
   ]
  },
  {
   "cell_type": "markdown",
   "metadata": {},
   "source": [
    "Seria lo mismo con LOCK"
   ]
  },
  {
   "cell_type": "code",
   "execution_count": 3,
   "metadata": {},
   "outputs": [
    {
     "name": "stdout",
     "output_type": "stream",
     "text": [
      "\n",
      "\n",
      "\n",
      "\n",
      "\n",
      "\n",
      "\n",
      "\n",
      "\n",
      "\n"
     ]
    }
   ],
   "source": [
    "import threading\n",
    "import time\n",
    "\n",
    "#Creamos el semaforo; el 2 es para indicar el numero maximo de hilos que pueden acceder a la seccion critica a la vez\n",
    "lock = threading.Lock()\n",
    "\n",
    "filename = \"log2.txt\"\n",
    "\n",
    "def access_resource(num):\n",
    "    #Adquiere el semaforo, restamos uno a ese semaforo\n",
    "    lock.acquire()\n",
    "    for i in range(5):\n",
    "        with open(filename, \"a\") as file:\n",
    "            file.write(f\"Thread {num} -> iter {i}\\n\")\n",
    "    print(\"\\n\")\n",
    "    #Este semaforo ha terminado de ejecutar la seccion critica, entonces sumamos uno para que otro hilo pueda usarlo\n",
    "    lock.release()\n",
    "\n",
    "threads = []\n",
    "\n",
    "#le pasamos el numero como tupla\n",
    "for i in range(5):\n",
    "    thread = threading.Thread(target=access_resource, args=(i,))\n",
    "    thread.start()\n",
    "    threads.append(thread)\n",
    "    \n",
    "#En vez de ir esperando a que cada thread termine de ejecutarse para ejecutar el siguiente; creo una lista de threads y \n",
    "# cuando ya se han ejecutado, entonces imprimo \"Thread finished!\"\n",
    "for thread in threads:\n",
    "    thread.join()"
   ]
  },
  {
   "cell_type": "markdown",
   "metadata": {},
   "source": [
    "El interprete de python no permite que haya mas de un nucleo de ejecucion para los hilos ¿?\n",
    "\n",
    "parece que se esta ejecutando secuencialmente; los ejercicios anteriores se ejecutan en el mismo nucleo\n",
    "\n",
    "GLI (Global Interpreter Lock)\n",
    "\n",
    "Proceso ==> No comparten la memoria\n",
    "\n",
    "Hilo ==> los hilos se ejecutan dentro del mismo proceso, si creo 10 hilos comparten la misma zona de memoria"
   ]
  },
  {
   "cell_type": "code",
   "execution_count": null,
   "metadata": {},
   "outputs": [],
   "source": [
    "import threading\n",
    "import time\n",
    "\n",
    "def countdown(n):\n",
    "    while n > 0:\n",
    "        n -= 1\n",
    "\n",
    "count = 500000000\n",
    "countdown(count)"
   ]
  },
  {
   "cell_type": "markdown",
   "metadata": {},
   "source": [
    "El hacer que ese count lo haga dentro de un thread, tarda un poco mas por la creacion de un thread. Lo que pasa es q cuando tenemos dos threads, en este caso, no se dividiria el trabajo, sino que seria mas lento"
   ]
  },
  {
   "cell_type": "code",
   "execution_count": 9,
   "metadata": {},
   "outputs": [],
   "source": [
    "thread1 = threading.Thread(target=countdown, args=(count,))\n",
    "thread2 = threading.Thread(target=countdown, args=(count,))\n",
    "thread1.start()\n",
    "thread2.start()\n",
    "thread1.join()\n",
    "thread2.join()"
   ]
  },
  {
   "cell_type": "markdown",
   "metadata": {},
   "source": [
    "Crear threads no me sirve para optimizar en Python; creamos threads para que los procesos que son bloqueantes, dejen de ser bloqueantes"
   ]
  },
  {
   "cell_type": "markdown",
   "metadata": {},
   "source": [
    "Como se realiza una barra de progreso"
   ]
  },
  {
   "cell_type": "code",
   "execution_count": null,
   "metadata": {},
   "outputs": [],
   "source": []
  }
 ],
 "metadata": {
  "kernelspec": {
   "display_name": "clase0",
   "language": "python",
   "name": "python3"
  },
  "language_info": {
   "codemirror_mode": {
    "name": "ipython",
    "version": 3
   },
   "file_extension": ".py",
   "mimetype": "text/x-python",
   "name": "python",
   "nbconvert_exporter": "python",
   "pygments_lexer": "ipython3",
   "version": "3.11.9"
  }
 },
 "nbformat": 4,
 "nbformat_minor": 2
}
